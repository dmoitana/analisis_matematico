{
  "cells": [
    {
      "cell_type": "code",
      "execution_count": 1,
      "metadata": {
        "id": "64kZ7EiYIO3j"
      },
      "outputs": [],
      "source": [
        "import torch\n",
        "import numpy as np\n",
        "\n",
        "import matplotlib.pyplot as plt"
      ]
    },
    {
      "cell_type": "code",
      "execution_count": 2,
      "metadata": {
        "id": "1ru-amzFKtkp"
      },
      "outputs": [],
      "source": [
        "def matmuls(mat_sz=100, use_gpu=False):\n",
        "  device = \"cuda\" if use_gpu else \"cpu\"\n",
        "  A = torch.randn(mat_sz, mat_sz, device=device)\n",
        "  B = torch.randn(mat_sz, mat_sz, device=device)\n",
        "  C = torch.randn(mat_sz, mat_sz, device=device)\n",
        "\n",
        "  D = torch.matmul(A, B)\n",
        "  E = torch.matmul(C, D)\n",
        "\n",
        "  F = D + 3*E\n",
        "  return F"
      ]
    },
    {
      "cell_type": "code",
      "execution_count": 3,
      "metadata": {
        "colab": {
          "base_uri": "https://localhost:8080/"
        },
        "id": "eZSKz9q6MYx_",
        "outputId": "6c2de4ec-0c92-4086-a53e-86112b03598e"
      },
      "outputs": [
        {
          "name": "stdout",
          "output_type": "stream",
          "text": [
            "362 µs ± 25.1 µs per loop (mean ± std. dev. of 7 runs, 1,000 loops each)\n"
          ]
        }
      ],
      "source": [
        "%%timeit\n",
        "matmuls(mat_sz=100, use_gpu=False)"
      ]
    },
    {
      "cell_type": "code",
      "execution_count": 4,
      "metadata": {
        "colab": {
          "base_uri": "https://localhost:8080/"
        },
        "id": "wCIqLRJlMfFT",
        "outputId": "32342beb-7d44-488d-c8ff-1f2f0da24e6b"
      },
      "outputs": [
        {
          "ename": "RuntimeError",
          "evalue": "Found no NVIDIA driver on your system. Please check that you have an NVIDIA GPU and installed a driver from http://www.nvidia.com/Download/index.aspx",
          "output_type": "error",
          "traceback": [
            "\u001b[1;31m---------------------------------------------------------------------------\u001b[0m",
            "\u001b[1;31mRuntimeError\u001b[0m                              Traceback (most recent call last)",
            "\u001b[1;32mc:\\Users\\coop\\OneDrive - UBA\\Documentos - UBA\\GitHub Repository\\analisis_matematico\\clases\\clase_1\\AMIA_Comparación_velocidades.ipynb Cell 4\u001b[0m line \u001b[0;36m1\n\u001b[1;32m----> <a href='vscode-notebook-cell:/c%3A/Users/coop/OneDrive%20-%20UBA/Documentos%20-%20UBA/GitHub%20Repository/analisis_matematico/clases/clase_1/AMIA_Comparaci%C3%B3n_velocidades.ipynb#W3sZmlsZQ%3D%3D?line=0'>1</a>\u001b[0m get_ipython()\u001b[39m.\u001b[39;49mrun_cell_magic(\u001b[39m'\u001b[39;49m\u001b[39mtimeit\u001b[39;49m\u001b[39m'\u001b[39;49m, \u001b[39m'\u001b[39;49m\u001b[39m'\u001b[39;49m, \u001b[39m'\u001b[39;49m\u001b[39mmatmuls(mat_sz=100, use_gpu=True)\u001b[39;49m\u001b[39m\\n\u001b[39;49;00m\u001b[39m'\u001b[39;49m)\n",
            "File \u001b[1;32mc:\\Program Files (x86)\\Anaconda3\\envs\\ceia\\lib\\site-packages\\IPython\\core\\interactiveshell.py:2493\u001b[0m, in \u001b[0;36mInteractiveShell.run_cell_magic\u001b[1;34m(self, magic_name, line, cell)\u001b[0m\n\u001b[0;32m   2491\u001b[0m \u001b[39mwith\u001b[39;00m \u001b[39mself\u001b[39m\u001b[39m.\u001b[39mbuiltin_trap:\n\u001b[0;32m   2492\u001b[0m     args \u001b[39m=\u001b[39m (magic_arg_s, cell)\n\u001b[1;32m-> 2493\u001b[0m     result \u001b[39m=\u001b[39m fn(\u001b[39m*\u001b[39margs, \u001b[39m*\u001b[39m\u001b[39m*\u001b[39mkwargs)\n\u001b[0;32m   2495\u001b[0m \u001b[39m# The code below prevents the output from being displayed\u001b[39;00m\n\u001b[0;32m   2496\u001b[0m \u001b[39m# when using magics with decorator @output_can_be_silenced\u001b[39;00m\n\u001b[0;32m   2497\u001b[0m \u001b[39m# when the last Python token in the expression is a ';'.\u001b[39;00m\n\u001b[0;32m   2498\u001b[0m \u001b[39mif\u001b[39;00m \u001b[39mgetattr\u001b[39m(fn, magic\u001b[39m.\u001b[39mMAGIC_OUTPUT_CAN_BE_SILENCED, \u001b[39mFalse\u001b[39;00m):\n",
            "File \u001b[1;32mc:\\Program Files (x86)\\Anaconda3\\envs\\ceia\\lib\\site-packages\\IPython\\core\\magics\\execution.py:1185\u001b[0m, in \u001b[0;36mExecutionMagics.timeit\u001b[1;34m(self, line, cell, local_ns)\u001b[0m\n\u001b[0;32m   1183\u001b[0m \u001b[39mfor\u001b[39;00m index \u001b[39min\u001b[39;00m \u001b[39mrange\u001b[39m(\u001b[39m0\u001b[39m, \u001b[39m10\u001b[39m):\n\u001b[0;32m   1184\u001b[0m     number \u001b[39m=\u001b[39m \u001b[39m10\u001b[39m \u001b[39m*\u001b[39m\u001b[39m*\u001b[39m index\n\u001b[1;32m-> 1185\u001b[0m     time_number \u001b[39m=\u001b[39m timer\u001b[39m.\u001b[39;49mtimeit(number)\n\u001b[0;32m   1186\u001b[0m     \u001b[39mif\u001b[39;00m time_number \u001b[39m>\u001b[39m\u001b[39m=\u001b[39m \u001b[39m0.2\u001b[39m:\n\u001b[0;32m   1187\u001b[0m         \u001b[39mbreak\u001b[39;00m\n",
            "File \u001b[1;32mc:\\Program Files (x86)\\Anaconda3\\envs\\ceia\\lib\\site-packages\\IPython\\core\\magics\\execution.py:173\u001b[0m, in \u001b[0;36mTimer.timeit\u001b[1;34m(self, number)\u001b[0m\n\u001b[0;32m    171\u001b[0m gc\u001b[39m.\u001b[39mdisable()\n\u001b[0;32m    172\u001b[0m \u001b[39mtry\u001b[39;00m:\n\u001b[1;32m--> 173\u001b[0m     timing \u001b[39m=\u001b[39m \u001b[39mself\u001b[39;49m\u001b[39m.\u001b[39;49minner(it, \u001b[39mself\u001b[39;49m\u001b[39m.\u001b[39;49mtimer)\n\u001b[0;32m    174\u001b[0m \u001b[39mfinally\u001b[39;00m:\n\u001b[0;32m    175\u001b[0m     \u001b[39mif\u001b[39;00m gcold:\n",
            "File \u001b[1;32m<magic-timeit>:1\u001b[0m, in \u001b[0;36minner\u001b[1;34m(_it, _timer)\u001b[0m\n",
            "\u001b[1;32mc:\\Users\\coop\\OneDrive - UBA\\Documentos - UBA\\GitHub Repository\\analisis_matematico\\clases\\clase_1\\AMIA_Comparación_velocidades.ipynb Cell 4\u001b[0m line \u001b[0;36m3\n\u001b[0;32m      <a href='vscode-notebook-cell:/c%3A/Users/coop/OneDrive%20-%20UBA/Documentos%20-%20UBA/GitHub%20Repository/analisis_matematico/clases/clase_1/AMIA_Comparaci%C3%B3n_velocidades.ipynb#W3sZmlsZQ%3D%3D?line=0'>1</a>\u001b[0m \u001b[39mdef\u001b[39;00m \u001b[39mmatmuls\u001b[39m(mat_sz\u001b[39m=\u001b[39m\u001b[39m100\u001b[39m, use_gpu\u001b[39m=\u001b[39m\u001b[39mFalse\u001b[39;00m):\n\u001b[0;32m      <a href='vscode-notebook-cell:/c%3A/Users/coop/OneDrive%20-%20UBA/Documentos%20-%20UBA/GitHub%20Repository/analisis_matematico/clases/clase_1/AMIA_Comparaci%C3%B3n_velocidades.ipynb#W3sZmlsZQ%3D%3D?line=1'>2</a>\u001b[0m   device \u001b[39m=\u001b[39m \u001b[39m\"\u001b[39m\u001b[39mcuda\u001b[39m\u001b[39m\"\u001b[39m \u001b[39mif\u001b[39;00m use_gpu \u001b[39melse\u001b[39;00m \u001b[39m\"\u001b[39m\u001b[39mcpu\u001b[39m\u001b[39m\"\u001b[39m\n\u001b[1;32m----> <a href='vscode-notebook-cell:/c%3A/Users/coop/OneDrive%20-%20UBA/Documentos%20-%20UBA/GitHub%20Repository/analisis_matematico/clases/clase_1/AMIA_Comparaci%C3%B3n_velocidades.ipynb#W3sZmlsZQ%3D%3D?line=2'>3</a>\u001b[0m   A \u001b[39m=\u001b[39m torch\u001b[39m.\u001b[39;49mrandn(mat_sz, mat_sz, device\u001b[39m=\u001b[39;49mdevice)\n\u001b[0;32m      <a href='vscode-notebook-cell:/c%3A/Users/coop/OneDrive%20-%20UBA/Documentos%20-%20UBA/GitHub%20Repository/analisis_matematico/clases/clase_1/AMIA_Comparaci%C3%B3n_velocidades.ipynb#W3sZmlsZQ%3D%3D?line=3'>4</a>\u001b[0m   B \u001b[39m=\u001b[39m torch\u001b[39m.\u001b[39mrandn(mat_sz, mat_sz, device\u001b[39m=\u001b[39mdevice)\n\u001b[0;32m      <a href='vscode-notebook-cell:/c%3A/Users/coop/OneDrive%20-%20UBA/Documentos%20-%20UBA/GitHub%20Repository/analisis_matematico/clases/clase_1/AMIA_Comparaci%C3%B3n_velocidades.ipynb#W3sZmlsZQ%3D%3D?line=4'>5</a>\u001b[0m   C \u001b[39m=\u001b[39m torch\u001b[39m.\u001b[39mrandn(mat_sz, mat_sz, device\u001b[39m=\u001b[39mdevice)\n",
            "File \u001b[1;32mc:\\Program Files (x86)\\Anaconda3\\envs\\ceia\\lib\\site-packages\\torch\\cuda\\__init__.py:172\u001b[0m, in \u001b[0;36m_lazy_init\u001b[1;34m()\u001b[0m\n\u001b[0;32m    168\u001b[0m     \u001b[39mraise\u001b[39;00m \u001b[39mAssertionError\u001b[39;00m(\n\u001b[0;32m    169\u001b[0m         \u001b[39m\"\u001b[39m\u001b[39mlibcudart functions unavailable. It looks like you have a broken build?\u001b[39m\u001b[39m\"\u001b[39m)\n\u001b[0;32m    170\u001b[0m \u001b[39m# This function throws if there's a driver initialization error, no GPUs\u001b[39;00m\n\u001b[0;32m    171\u001b[0m \u001b[39m# are found or any other error occurs\u001b[39;00m\n\u001b[1;32m--> 172\u001b[0m torch\u001b[39m.\u001b[39;49m_C\u001b[39m.\u001b[39;49m_cuda_init()\n\u001b[0;32m    173\u001b[0m \u001b[39m# Some of the queued calls may reentrantly call _lazy_init();\u001b[39;00m\n\u001b[0;32m    174\u001b[0m \u001b[39m# we need to just return without initializing in that case.\u001b[39;00m\n\u001b[0;32m    175\u001b[0m \u001b[39m# However, we must not let any *other* threads in!\u001b[39;00m\n\u001b[0;32m    176\u001b[0m _tls\u001b[39m.\u001b[39mis_initializing \u001b[39m=\u001b[39m \u001b[39mTrue\u001b[39;00m\n",
            "\u001b[1;31mRuntimeError\u001b[0m: Found no NVIDIA driver on your system. Please check that you have an NVIDIA GPU and installed a driver from http://www.nvidia.com/Download/index.aspx"
          ]
        }
      ],
      "source": [
        "%%timeit\n",
        "matmuls(mat_sz=100, use_gpu=True)"
      ]
    },
    {
      "cell_type": "code",
      "execution_count": null,
      "metadata": {
        "colab": {
          "base_uri": "https://localhost:8080/"
        },
        "id": "Kv6o58QTYJG2",
        "outputId": "be1ef9a2-ea9e-4e08-a290-9357b4107f13"
      },
      "outputs": [
        {
          "data": {
            "text/plain": [
              "3.6432432432432433"
            ]
          },
          "execution_count": 6,
          "metadata": {},
          "output_type": "execute_result"
        }
      ],
      "source": [
        "337/92.5"
      ]
    },
    {
      "cell_type": "code",
      "execution_count": null,
      "metadata": {
        "colab": {
          "base_uri": "https://localhost:8080/"
        },
        "id": "taRj8UbfMItW",
        "outputId": "d398ef6a-8fc7-4e3c-8b4f-61e1f02e408c"
      },
      "outputs": [
        {
          "name": "stdout",
          "output_type": "stream",
          "text": [
            "76.1 ms ± 19.4 ms per loop (mean ± std. dev. of 7 runs, 10 loops each)\n"
          ]
        }
      ],
      "source": [
        "%%timeit\n",
        "matmuls(mat_sz=1000, use_gpu=False)"
      ]
    },
    {
      "cell_type": "code",
      "execution_count": null,
      "metadata": {
        "colab": {
          "base_uri": "https://localhost:8080/"
        },
        "id": "Rb7VHkU6MQ4V",
        "outputId": "dc8858ce-f90e-4922-eefd-31792249ca59"
      },
      "outputs": [
        {
          "name": "stdout",
          "output_type": "stream",
          "text": [
            "1.43 ms ± 20.8 µs per loop (mean ± std. dev. of 7 runs, 1000 loops each)\n"
          ]
        }
      ],
      "source": [
        "%%timeit\n",
        "matmuls(mat_sz=1000, use_gpu=True)"
      ]
    },
    {
      "cell_type": "code",
      "execution_count": null,
      "metadata": {
        "colab": {
          "base_uri": "https://localhost:8080/"
        },
        "id": "FTAXiqPeMgjJ",
        "outputId": "6826d3b3-79df-490f-9601-de1edba5c459"
      },
      "outputs": [
        {
          "data": {
            "text/plain": [
              "53.21678321678321"
            ]
          },
          "execution_count": 9,
          "metadata": {},
          "output_type": "execute_result"
        }
      ],
      "source": [
        "76.1/1.43"
      ]
    },
    {
      "cell_type": "code",
      "execution_count": null,
      "metadata": {
        "colab": {
          "base_uri": "https://localhost:8080/"
        },
        "id": "DkWi-HERYtTu",
        "outputId": "976706c0-9712-48f4-ad6b-60a2e3d93f89"
      },
      "outputs": [
        {
          "name": "stdout",
          "output_type": "stream",
          "text": [
            "4.95 s ± 386 ms per loop (mean ± std. dev. of 7 runs, 1 loop each)\n"
          ]
        }
      ],
      "source": [
        "%%timeit\n",
        "matmuls(mat_sz=5000, use_gpu=False)"
      ]
    },
    {
      "cell_type": "code",
      "execution_count": null,
      "metadata": {
        "colab": {
          "base_uri": "https://localhost:8080/"
        },
        "id": "nPodoj7hYxSu",
        "outputId": "15310f94-29a5-4bc5-8d60-4d0ace435c2d"
      },
      "outputs": [
        {
          "name": "stdout",
          "output_type": "stream",
          "text": [
            "146 ms ± 10.4 ms per loop (mean ± std. dev. of 3 runs, 1000 loops each)\n"
          ]
        }
      ],
      "source": [
        "%%timeit -n 1000 -r 3\n",
        "matmuls(mat_sz=5000, use_gpu=True)"
      ]
    },
    {
      "cell_type": "code",
      "execution_count": null,
      "metadata": {
        "colab": {
          "base_uri": "https://localhost:8080/"
        },
        "id": "xzbC1NjBc4NE",
        "outputId": "9389320d-b006-428c-f2b8-2eb6534043f5"
      },
      "outputs": [
        {
          "data": {
            "text/plain": [
              "33.9041095890411"
            ]
          },
          "execution_count": 16,
          "metadata": {},
          "output_type": "execute_result"
        }
      ],
      "source": [
        "4.95/0.146"
      ]
    },
    {
      "cell_type": "code",
      "execution_count": null,
      "metadata": {
        "id": "HAI7cMagfDY2"
      },
      "outputs": [],
      "source": []
    }
  ],
  "metadata": {
    "accelerator": "GPU",
    "colab": {
      "provenance": []
    },
    "gpuClass": "standard",
    "kernelspec": {
      "display_name": "ceia",
      "language": "python",
      "name": "ceia"
    },
    "language_info": {
      "codemirror_mode": {
        "name": "ipython",
        "version": 3
      },
      "file_extension": ".py",
      "mimetype": "text/x-python",
      "name": "python",
      "nbconvert_exporter": "python",
      "pygments_lexer": "ipython3",
      "version": "3.9.18"
    }
  },
  "nbformat": 4,
  "nbformat_minor": 0
}
